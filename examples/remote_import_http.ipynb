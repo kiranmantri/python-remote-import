{
 "cells": [
  {
   "cell_type": "code",
   "execution_count": 3,
   "metadata": {},
   "outputs": [],
   "source": [
    "# Start a HTTP fileserver:\n",
    "# python -m http.server 7777\n",
    "from remote_import import RemoteImporter"
   ]
  },
  {
   "cell_type": "code",
   "execution_count": 4,
   "metadata": {},
   "outputs": [],
   "source": [
    "importer = RemoteImporter.add_remote(\n",
    "    namespaces=['test_package'], \n",
    "    base_url='http://0.0.0.0:7777/examples'    \n",
    "    )"
   ]
  },
  {
   "cell_type": "code",
   "execution_count": 5,
   "metadata": {},
   "outputs": [
    {
     "name": "stdout",
     "output_type": "stream",
     "text": [
      "http://0.0.0.0:7777/examples/test_package/b imported\n",
      "value=3.141592653589793 on module http://0.0.0.0:7777/examples/test_package/c/sub_c\n",
      "Value of from module b: http://0.0.0.0:7777/examples/test_package/b\n",
      "Value of from sub module c: 3.141592653589793\n"
     ]
    }
   ],
   "source": [
    "from test_package.a import main\n",
    "main()"
   ]
  },
  {
   "cell_type": "code",
   "execution_count": 6,
   "metadata": {},
   "outputs": [
    {
     "data": {
      "text/plain": [
       "'http://0.0.0.0:7777/examples/test_package/b'"
      ]
     },
     "execution_count": 6,
     "metadata": {},
     "output_type": "execute_result"
    }
   ],
   "source": [
    "from test_package.b import value\n",
    "value"
   ]
  },
  {
   "cell_type": "code",
   "execution_count": 7,
   "metadata": {},
   "outputs": [
    {
     "data": {
      "text/plain": [
       "attr1=1,\n",
       "attr2=two,\n",
       "attr3=3,\n",
       "attr4=the attribute 4 was created in the constructor"
      ]
     },
     "execution_count": 7,
     "metadata": {},
     "output_type": "execute_result"
    }
   ],
   "source": [
    "from test_package.d.aclass import SomeUselessClass\n",
    "s = SomeUselessClass()\n",
    "s"
   ]
  },
  {
   "cell_type": "code",
   "execution_count": null,
   "metadata": {},
   "outputs": [],
   "source": []
  }
 ],
 "metadata": {
  "interpreter": {
   "hash": "dccb8798b6deeeaf90f09cec5fc8b776cb07237c1442c86c591753e1c697ad05"
  },
  "kernelspec": {
   "display_name": "Python 3.7.12 64-bit ('python3.7': virtualenv)",
   "language": "python",
   "name": "python3"
  },
  "language_info": {
   "codemirror_mode": {
    "name": "ipython",
    "version": 3
   },
   "file_extension": ".py",
   "mimetype": "text/x-python",
   "name": "python",
   "nbconvert_exporter": "python",
   "pygments_lexer": "ipython3",
   "version": "3.10.2"
  },
  "orig_nbformat": 4
 },
 "nbformat": 4,
 "nbformat_minor": 2
}
