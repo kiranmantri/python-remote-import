{
 "cells": [
  {
   "cell_type": "code",
   "execution_count": null,
   "metadata": {},
   "outputs": [],
   "source": [
    "from remote_import import RemoteImporter"
   ]
  },
  {
   "cell_type": "code",
   "execution_count": null,
   "metadata": {},
   "outputs": [],
   "source": [
    "RemoteImporter.add_remote(\n",
    "    namespaces=[\"test_package\"],\n",
    "    base_url ='github://kiranmantri:python-remote-import@/examples'\n",
    "    )"
   ]
  },
  {
   "cell_type": "code",
   "execution_count": null,
   "metadata": {},
   "outputs": [],
   "source": [
    "from test_package.a import main\n",
    "main()"
   ]
  },
  {
   "cell_type": "code",
   "execution_count": null,
   "metadata": {},
   "outputs": [],
   "source": [
    "from test_package.b import value\n",
    "value"
   ]
  },
  {
   "cell_type": "code",
   "execution_count": null,
   "metadata": {},
   "outputs": [],
   "source": [
    "from test_package.d.aclass import SomeUselessClass\n",
    "s = SomeUselessClass()\n",
    "s"
   ]
  }
 ],
 "metadata": {
  "interpreter": {
   "hash": "dccb8798b6deeeaf90f09cec5fc8b776cb07237c1442c86c591753e1c697ad05"
  },
  "kernelspec": {
   "display_name": "Python 3.7.12 64-bit ('python3.7': virtualenv)",
   "language": "python",
   "name": "python3"
  },
  "language_info": {
   "codemirror_mode": {
    "name": "ipython",
    "version": 3
   },
   "file_extension": ".py",
   "mimetype": "text/x-python",
   "name": "python",
   "nbconvert_exporter": "python",
   "pygments_lexer": "ipython3",
   "version": "3.10.2"
  },
  "orig_nbformat": 4
 },
 "nbformat": 4,
 "nbformat_minor": 2
}
