{
 "cells": [
  {
   "cell_type": "code",
   "execution_count": 1,
   "metadata": {},
   "outputs": [],
   "source": [
    "#python -m http.server --directory /Users/kiran/knowtions/sandbox/remote_import_test/packages 8000\n",
    "import os\n",
    "os.environ['KN_LOGLEVEL_KNOWTIONS_CORE']=\"INFO\"\n",
    "import sys\n",
    "import importlib\n",
    "from knowtions_core.providers.remote_importer import RemoteImporter"
   ]
  },
  {
   "cell_type": "code",
   "execution_count": null,
   "metadata": {},
   "outputs": [],
   "source": [
    "importer = RemoteImporter.add_remote(\n",
    "    namespaces=['pkg_example','lydia_ai_ml_lib'], \n",
    "    base_url='http://0.0.0.0:7070/localhost', \n",
    "    reload=True, \n",
    "    test_connection=True, \n",
    "    headers={'x-host':'1.1.1.1'}\n",
    "    )\n",
    "\n",
    "    \n",
    "from lydia_ai_ml_lib import get_person_age_group, get_weighted_age_modifier\n",
    "\n",
    "for a in range(0,100, 5):\n",
    "    print(a, get_person_age_group(a))"
   ]
  },
  {
   "cell_type": "code",
   "execution_count": null,
   "metadata": {},
   "outputs": [],
   "source": [
    "from lydia_ai_ml_lib.feature_engineering.v3 import load_comorbidity\n",
    "# load_comorbidity('cancer')\n",
    "\n",
    "import lydia_ai_ml_lib\n",
    "\n",
    "lydia_ai_ml_lib.feature_engineering.v3.__file__"
   ]
  },
  {
   "cell_type": "code",
   "execution_count": 5,
   "metadata": {},
   "outputs": [
    {
     "name": "stdout",
     "output_type": "stream",
     "text": [
      "\u001b[32m18/Feb/2022:18:40:09\u001b[0m (90.25s) \u001b[1mINFO\u001b[0m \u001b[34mknowtions_core.providers.remote_importer:189\u001b[0m | Package at http://0.0.0.0:7070/localhost/lydia_ai_ml_lib is OK\n"
     ]
    }
   ],
   "source": [
    "importer = RemoteImporter.add_remote(\n",
    "    namespaces=['lydia_ai_ml_lib'], \n",
    "    base_url='http://0.0.0.0:7070/localhost', \n",
    "    reload=True, \n",
    "    test_connection=True, \n",
    "    headers={'x-host':'1.1.1.1'}\n",
    "    )"
   ]
  },
  {
   "cell_type": "code",
   "execution_count": null,
   "metadata": {},
   "outputs": [],
   "source": []
  }
 ],
 "metadata": {
  "interpreter": {
   "hash": "dccb8798b6deeeaf90f09cec5fc8b776cb07237c1442c86c591753e1c697ad05"
  },
  "kernelspec": {
   "display_name": "Python 3.7.12 64-bit ('python3.7': virtualenv)",
   "language": "python",
   "name": "python3"
  },
  "language_info": {
   "codemirror_mode": {
    "name": "ipython",
    "version": 3
   },
   "file_extension": ".py",
   "mimetype": "text/x-python",
   "name": "python",
   "nbconvert_exporter": "python",
   "pygments_lexer": "ipython3",
   "version": "3.10.1"
  },
  "orig_nbformat": 4
 },
 "nbformat": 4,
 "nbformat_minor": 2
}
